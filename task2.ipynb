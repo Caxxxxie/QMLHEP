{
 "cells": [
  {
   "cell_type": "markdown",
   "metadata": {},
   "source": [
    "For Task II, you will use ParticleNet’s data for Quark/Gluon jet classification available here with its corresponding description. \n",
    "● Choose 2 Graph-based architectures of your choice to classify jets as being quarks or gluons. Provide a description on what considerations you have taken to project this point-cloud dataset to a set of interconnected nodes and edges. \n",
    "● Discuss the resulting performance of the 2 chosen architectures. "
   ]
  },
  {
   "cell_type": "code",
   "execution_count": 9,
   "metadata": {},
   "outputs": [
    {
     "name": "stdout",
     "output_type": "stream",
     "text": [
      "Defaulting to user installation because normal site-packages is not writeable\n",
      "Requirement already satisfied: torch in /Users/cassie/Library/Python/3.9/lib/python/site-packages (2.6.0)\n",
      "Requirement already satisfied: torch_geometric in /Users/cassie/Library/Python/3.9/lib/python/site-packages (2.6.1)\n",
      "Requirement already satisfied: torch_scatter in /Users/cassie/Library/Python/3.9/lib/python/site-packages (2.1.2)\n",
      "Requirement already satisfied: torch_sparse in /Users/cassie/Library/Python/3.9/lib/python/site-packages (0.6.18)\n",
      "Requirement already satisfied: numpy in /Users/cassie/Library/Python/3.9/lib/python/site-packages (1.26.4)\n",
      "Requirement already satisfied: pandas in /Users/cassie/Library/Python/3.9/lib/python/site-packages (2.2.3)\n",
      "Requirement already satisfied: matplotlib in /Users/cassie/Library/Python/3.9/lib/python/site-packages (3.9.4)\n",
      "Requirement already satisfied: scikit-learn in /Users/cassie/Library/Python/3.9/lib/python/site-packages (1.6.1)\n",
      "Requirement already satisfied: filelock in /Users/cassie/Library/Python/3.9/lib/python/site-packages (from torch) (3.18.0)\n",
      "Requirement already satisfied: typing-extensions>=4.10.0 in /Users/cassie/Library/Python/3.9/lib/python/site-packages (from torch) (4.12.2)\n",
      "Requirement already satisfied: networkx in /Users/cassie/Library/Python/3.9/lib/python/site-packages (from torch) (3.2.1)\n",
      "Requirement already satisfied: jinja2 in /Users/cassie/Library/Python/3.9/lib/python/site-packages (from torch) (3.1.6)\n",
      "Requirement already satisfied: fsspec in /Users/cassie/Library/Python/3.9/lib/python/site-packages (from torch) (2025.3.0)\n",
      "Requirement already satisfied: sympy==1.13.1 in /Users/cassie/Library/Python/3.9/lib/python/site-packages (from torch) (1.13.1)\n",
      "Requirement already satisfied: mpmath<1.4,>=1.1.0 in /Users/cassie/Library/Python/3.9/lib/python/site-packages (from sympy==1.13.1->torch) (1.3.0)\n",
      "Requirement already satisfied: aiohttp in /Users/cassie/Library/Python/3.9/lib/python/site-packages (from torch_geometric) (3.11.14)\n",
      "Requirement already satisfied: psutil>=5.8.0 in /Users/cassie/Library/Python/3.9/lib/python/site-packages (from torch_geometric) (7.0.0)\n",
      "Requirement already satisfied: pyparsing in /Users/cassie/Library/Python/3.9/lib/python/site-packages (from torch_geometric) (3.2.1)\n",
      "Requirement already satisfied: requests in /Users/cassie/Library/Python/3.9/lib/python/site-packages (from torch_geometric) (2.32.3)\n",
      "Requirement already satisfied: tqdm in /Users/cassie/Library/Python/3.9/lib/python/site-packages (from torch_geometric) (4.67.1)\n",
      "Requirement already satisfied: scipy in /Users/cassie/Library/Python/3.9/lib/python/site-packages (from torch_sparse) (1.13.1)\n",
      "Requirement already satisfied: python-dateutil>=2.8.2 in /Users/cassie/Library/Python/3.9/lib/python/site-packages (from pandas) (2.9.0.post0)\n",
      "Requirement already satisfied: pytz>=2020.1 in /Users/cassie/Library/Python/3.9/lib/python/site-packages (from pandas) (2025.2)\n",
      "Requirement already satisfied: tzdata>=2022.7 in /Users/cassie/Library/Python/3.9/lib/python/site-packages (from pandas) (2025.2)\n",
      "Requirement already satisfied: contourpy>=1.0.1 in /Users/cassie/Library/Python/3.9/lib/python/site-packages (from matplotlib) (1.3.0)\n",
      "Requirement already satisfied: cycler>=0.10 in /Users/cassie/Library/Python/3.9/lib/python/site-packages (from matplotlib) (0.12.1)\n",
      "Requirement already satisfied: fonttools>=4.22.0 in /Users/cassie/Library/Python/3.9/lib/python/site-packages (from matplotlib) (4.56.0)\n",
      "Requirement already satisfied: kiwisolver>=1.3.1 in /Users/cassie/Library/Python/3.9/lib/python/site-packages (from matplotlib) (1.4.7)\n",
      "Requirement already satisfied: packaging>=20.0 in /Users/cassie/Library/Python/3.9/lib/python/site-packages (from matplotlib) (24.2)\n",
      "Requirement already satisfied: pillow>=8 in /Users/cassie/Library/Python/3.9/lib/python/site-packages (from matplotlib) (11.1.0)\n",
      "Requirement already satisfied: importlib-resources>=3.2.0 in /Users/cassie/Library/Python/3.9/lib/python/site-packages (from matplotlib) (6.5.2)\n",
      "Requirement already satisfied: joblib>=1.2.0 in /Users/cassie/Library/Python/3.9/lib/python/site-packages (from scikit-learn) (1.4.2)\n",
      "Requirement already satisfied: threadpoolctl>=3.1.0 in /Users/cassie/Library/Python/3.9/lib/python/site-packages (from scikit-learn) (3.6.0)\n",
      "Requirement already satisfied: zipp>=3.1.0 in /Users/cassie/Library/Python/3.9/lib/python/site-packages (from importlib-resources>=3.2.0->matplotlib) (3.21.0)\n",
      "Requirement already satisfied: six>=1.5 in /Applications/Xcode.app/Contents/Developer/Library/Frameworks/Python3.framework/Versions/3.9/lib/python3.9/site-packages (from python-dateutil>=2.8.2->pandas) (1.15.0)\n",
      "Requirement already satisfied: aiohappyeyeballs>=2.3.0 in /Library/Python/3.9/site-packages (from aiohttp->torch_geometric) (2.4.0)\n",
      "Requirement already satisfied: aiosignal>=1.1.2 in /Users/cassie/Library/Python/3.9/lib/python/site-packages (from aiohttp->torch_geometric) (1.3.2)\n",
      "Requirement already satisfied: async-timeout<6.0,>=4.0 in /Library/Python/3.9/site-packages (from aiohttp->torch_geometric) (4.0.3)\n",
      "Requirement already satisfied: attrs>=17.3.0 in /Users/cassie/Library/Python/3.9/lib/python/site-packages (from aiohttp->torch_geometric) (21.4.0)\n",
      "Requirement already satisfied: frozenlist>=1.1.1 in /Users/cassie/Library/Python/3.9/lib/python/site-packages (from aiohttp->torch_geometric) (1.5.0)\n",
      "Requirement already satisfied: multidict<7.0,>=4.5 in /Users/cassie/Library/Python/3.9/lib/python/site-packages (from aiohttp->torch_geometric) (6.2.0)\n",
      "Requirement already satisfied: propcache>=0.2.0 in /Users/cassie/Library/Python/3.9/lib/python/site-packages (from aiohttp->torch_geometric) (0.3.0)\n",
      "Requirement already satisfied: yarl<2.0,>=1.17.0 in /Users/cassie/Library/Python/3.9/lib/python/site-packages (from aiohttp->torch_geometric) (1.18.3)\n",
      "Requirement already satisfied: MarkupSafe>=2.0 in /Users/cassie/Library/Python/3.9/lib/python/site-packages (from jinja2->torch) (3.0.2)\n",
      "Requirement already satisfied: charset-normalizer<4,>=2 in /Users/cassie/Library/Python/3.9/lib/python/site-packages (from requests->torch_geometric) (3.4.1)\n",
      "Requirement already satisfied: idna<4,>=2.5 in /Users/cassie/Library/Python/3.9/lib/python/site-packages (from requests->torch_geometric) (3.10)\n",
      "Requirement already satisfied: urllib3<3,>=1.21.1 in /Users/cassie/Library/Python/3.9/lib/python/site-packages (from requests->torch_geometric) (2.3.0)\n",
      "Requirement already satisfied: certifi>=2017.4.17 in /Users/cassie/Library/Python/3.9/lib/python/site-packages (from requests->torch_geometric) (2025.1.31)\n",
      "Note: you may need to restart the kernel to use updated packages.\n"
     ]
    }
   ],
   "source": [
    "%pip install torch torch_geometric torch_scatter torch_sparse numpy pandas matplotlib scikit-learn"
   ]
  },
  {
   "cell_type": "code",
   "execution_count": null,
   "metadata": {},
   "outputs": [],
   "source": [
    "import numpy as np\n",
    "import os\n",
    "import glob\n",
    "from sklearn.model_selection import train_test_split\n",
    "import torch\n",
    "import torch.nn as nn\n",
    "import torch.nn.functional as F\n",
    "import numpy as np\n",
    "import matplotlib.pyplot as plt\n",
    "from tqdm import tqdm\n",
    "from sklearn.metrics import accuracy_score, roc_auc_score, confusion_matrix\n",
    "try:\n",
    "    from torch_geometric.nn import EdgeConv, global_mean_pool\n",
    "    from torch_geometric.data import Data, DataLoader\n",
    "except ImportError:\n",
    "    print(\"PyTorch Geometric not installed. Installing now...\")\n",
    "    # Try to install PyTorch Geometric\n",
    "    import subprocess\n",
    "    import sys\n",
    "    subprocess.check_call([sys.executable, \"-m\", \"pip\", \"install\", \"torch-geometric\"])\n",
    "    # Try imports again\n",
    "    from torch_geometric.nn import EdgeConv, global_mean_pool\n",
    "    from torch_geometric.data import Data, DataLoader"
   ]
  },
  {
   "cell_type": "code",
   "execution_count": 5,
   "metadata": {},
   "outputs": [
    {
     "name": "stdout",
     "output_type": "stream",
     "text": [
      "Looking for .npz files in: /Users/cassie/Documents/GSoC/QG_classification\n",
      "Selected 20 files matching criteria (use_bc=False)\n",
      "File QG_jets_13.npz: 100000 jets, 148 max particles\n",
      "File QG_jets.npz: 100000 jets, 139 max particles\n",
      "File QG_jets_12.npz: 100000 jets, 141 max particles\n",
      "File QG_jets_10.npz: 100000 jets, 138 max particles\n",
      "File QG_jets_11.npz: 100000 jets, 143 max particles\n",
      "File QG_jets_8.npz: 100000 jets, 142 max particles\n",
      "File QG_jets_15.npz: 100000 jets, 143 max particles\n",
      "File QG_jets_14.npz: 100000 jets, 139 max particles\n",
      "File QG_jets_9.npz: 100000 jets, 132 max particles\n",
      "File QG_jets_16.npz: 100000 jets, 136 max particles\n",
      "File QG_jets_17.npz: 100000 jets, 135 max particles\n",
      "File QG_jets_7.npz: 100000 jets, 136 max particles\n",
      "File QG_jets_6.npz: 100000 jets, 140 max particles\n",
      "File QG_jets_4.npz: 100000 jets, 136 max particles\n",
      "File QG_jets_19.npz: 100000 jets, 135 max particles\n",
      "File QG_jets_18.npz: 100000 jets, 134 max particles\n",
      "File QG_jets_5.npz: 100000 jets, 136 max particles\n",
      "File QG_jets_1.npz: 100000 jets, 134 max particles\n",
      "File QG_jets_2.npz: 100000 jets, 132 max particles\n",
      "File QG_jets_3.npz: 100000 jets, 128 max particles\n",
      "Maximum particles per jet across all files: 148\n",
      "Loaded ./QG_classification/QG_jets_13.npz: 100000 jets, padded to 148 particles\n",
      "Loaded ./QG_classification/QG_jets.npz: 100000 jets, padded to 148 particles\n",
      "Loaded ./QG_classification/QG_jets_12.npz: 100000 jets, padded to 148 particles\n",
      "Loaded ./QG_classification/QG_jets_10.npz: 100000 jets, padded to 148 particles\n",
      "Loaded ./QG_classification/QG_jets_11.npz: 100000 jets, padded to 148 particles\n",
      "Loaded ./QG_classification/QG_jets_8.npz: 100000 jets, padded to 148 particles\n",
      "Loaded ./QG_classification/QG_jets_15.npz: 100000 jets, padded to 148 particles\n",
      "Loaded ./QG_classification/QG_jets_14.npz: 100000 jets, padded to 148 particles\n",
      "Loaded ./QG_classification/QG_jets_9.npz: 100000 jets, padded to 148 particles\n",
      "Loaded ./QG_classification/QG_jets_16.npz: 100000 jets, padded to 148 particles\n",
      "Loaded ./QG_classification/QG_jets_17.npz: 100000 jets, padded to 148 particles\n",
      "Loaded ./QG_classification/QG_jets_7.npz: 100000 jets, padded to 148 particles\n",
      "Loaded ./QG_classification/QG_jets_6.npz: 100000 jets, padded to 148 particles\n",
      "Loaded ./QG_classification/QG_jets_4.npz: 100000 jets, padded to 148 particles\n",
      "Loaded ./QG_classification/QG_jets_19.npz: 100000 jets, padded to 148 particles\n",
      "Loaded ./QG_classification/QG_jets_18.npz: 100000 jets, padded to 148 particles\n",
      "Loaded ./QG_classification/QG_jets_5.npz: 100000 jets, padded to 148 particles\n",
      "Loaded ./QG_classification/QG_jets_1.npz: 100000 jets, padded to 148 particles\n",
      "Loaded ./QG_classification/QG_jets_2.npz: 100000 jets, padded to 148 particles\n",
      "Loaded ./QG_classification/QG_jets_3.npz: 100000 jets, padded to 148 particles\n",
      "\n",
      "Total jets: 2000000 (Quark: 1000000, Gluon: 1000000)\n",
      "Each jet has up to 148 particles with 4 features\n",
      "Training set: 1600000 jets\n",
      "Testing set: 400000 jets\n",
      "\n",
      "Training data shape: (1600000, 148, 4)\n",
      "Testing data shape: (400000, 148, 4)\n",
      "\n",
      "Average non-zero particles per jet: 43.30\n",
      "Min particles: 1, Max particles: 148\n"
     ]
    }
   ],
   "source": [
    "\n",
    "\n",
    "def load_qg_dataset(data_dir='./data', use_bc=False, test_size=0.2, random_state=42):\n",
    "    \"\"\"\n",
    "    Load QuarkGluon jet dataset from multiple .npz files, handling different particle counts\n",
    "    \"\"\"\n",
    "    # Check if directory exists\n",
    "    if not os.path.isdir(data_dir):\n",
    "        raise FileNotFoundError(f\"Data directory '{data_dir}' not found\")\n",
    "    \n",
    "    print(f\"Looking for .npz files in: {os.path.abspath(data_dir)}\")\n",
    "    all_files = [f for f in os.listdir(data_dir) if f.endswith('.npz')]\n",
    "    \n",
    "    # Filter files based on whether we want bc quarks\n",
    "    if use_bc:\n",
    "        data_files = [f for f in all_files if 'withbc' in f]\n",
    "    else:\n",
    "        data_files = [f for f in all_files if 'withbc' not in f]\n",
    "    \n",
    "    print(f\"Selected {len(data_files)} files matching criteria (use_bc={use_bc})\")\n",
    "    \n",
    "    all_jets = []\n",
    "    all_labels = []\n",
    "    max_particles = 0\n",
    "    \n",
    "    # First pass: determine maximum number of particles across all files\n",
    "    for filename in data_files:\n",
    "        filepath = os.path.join(data_dir, filename)\n",
    "        try:\n",
    "            data = np.load(filepath)\n",
    "            X = data['X']\n",
    "            max_particles = max(max_particles, X.shape[1])\n",
    "            print(f\"File {filename}: {X.shape[0]} jets, {X.shape[1]} max particles\")\n",
    "        except Exception as e:\n",
    "            print(f\"Error checking {filepath}: {e}\")\n",
    "    \n",
    "    print(f\"Maximum particles per jet across all files: {max_particles}\")\n",
    "    \n",
    "    # Second pass: load and pad data to consistent size\n",
    "    for filename in data_files:\n",
    "        filepath = os.path.join(data_dir, filename)\n",
    "        try:\n",
    "            data = np.load(filepath)\n",
    "            X = data['X']  # Shape: (n_jets, n_particles, 4)\n",
    "            y = data['y']  # Shape: (n_jets,)\n",
    "            \n",
    "            # Pad jets to have the same maximum number of particles\n",
    "            if X.shape[1] < max_particles:\n",
    "                pad_width = ((0, 0), (0, max_particles - X.shape[1]), (0, 0))\n",
    "                X_padded = np.pad(X, pad_width, mode='constant', constant_values=0)\n",
    "            else:\n",
    "                X_padded = X\n",
    "                \n",
    "            all_jets.append(X_padded)\n",
    "            all_labels.append(y)\n",
    "            \n",
    "            print(f\"Loaded {filepath}: {len(y)} jets, padded to {X_padded.shape[1]} particles\")\n",
    "            \n",
    "        except Exception as e:\n",
    "            print(f\"Error loading {filepath}: {e}\")\n",
    "    \n",
    "    if not all_jets:\n",
    "        raise ValueError(\"No valid data files were loaded\")\n",
    "        \n",
    "    # Combine data\n",
    "    X_combined = np.concatenate(all_jets, axis=0)\n",
    "    y_combined = np.concatenate(all_labels, axis=0)\n",
    "    \n",
    "    # Print dataset statistics\n",
    "    n_quark = np.sum(y_combined == 1)\n",
    "    n_gluon = np.sum(y_combined == 0)\n",
    "    print(f\"\\nTotal jets: {X_combined.shape[0]} (Quark: {n_quark}, Gluon: {n_gluon})\")\n",
    "    print(f\"Each jet has up to {X_combined.shape[1]} particles with {X_combined.shape[2]} features\")\n",
    "    \n",
    "    # Split into training and testing sets\n",
    "    X_train, X_test, y_train, y_test = train_test_split(\n",
    "        X_combined, y_combined, test_size=test_size, \n",
    "        random_state=random_state, stratify=y_combined\n",
    "    )\n",
    "    \n",
    "    print(f\"Training set: {X_train.shape[0]} jets\")\n",
    "    print(f\"Testing set: {X_test.shape[0]} jets\")\n",
    "    \n",
    "    return X_train, X_test, y_train, y_test\n",
    "\n",
    "data_dir = './QG_classification'  \n",
    "X_train, X_test, y_train, y_test = load_qg_dataset(data_dir, use_bc=False)\n",
    "\n",
    "# Print shapes\n",
    "print(\"\\nTraining data shape:\", X_train.shape)\n",
    "print(\"Testing data shape:\", X_test.shape)\n",
    "\n",
    "# Calculate average number of non-zero particles per jet in training set\n",
    "non_zero_particles = np.sum(np.sum(np.abs(X_train), axis=2) > 0, axis=1)\n",
    "print(f\"\\nAverage non-zero particles per jet: {np.mean(non_zero_particles):.2f}\")\n",
    "print(f\"Min particles: {np.min(non_zero_particles)}, Max particles: {np.max(non_zero_particles)}\")\n"
   ]
  },
  {
   "cell_type": "code",
   "execution_count": 8,
   "metadata": {},
   "outputs": [
    {
     "name": "stdout",
     "output_type": "stream",
     "text": [
      "Using device: cpu\n",
      "Using small dataset for testing: 500000 training jets, 100000 test jets\n",
      "Converting jets to graphs...\n"
     ]
    },
    {
     "name": "stderr",
     "output_type": "stream",
     "text": [
      "/var/folders/61/z36hrmy516l8jpg81wnm8pr00000gn/T/ipykernel_40214/237809303.py:45: DeprecationWarning: an integer is required (got type numpy.float64).  Implicit conversion to integers using __int__ is deprecated, and may be removed in a future version of Python.\n",
      "  y=torch.tensor([y[i]], dtype=torch.long)\n",
      "/Users/cassie/Library/Python/3.9/lib/python/site-packages/torch_geometric/deprecation.py:26: UserWarning: 'data.DataLoader' is deprecated, use 'loader.DataLoader' instead\n",
      "  warnings.warn(out)\n",
      "/Users/cassie/Library/Python/3.9/lib/python/site-packages/torch/optim/lr_scheduler.py:62: UserWarning: The verbose parameter is deprecated. Please use get_last_lr() to access the learning rate.\n",
      "  warnings.warn(\n"
     ]
    },
    {
     "name": "stdout",
     "output_type": "stream",
     "text": [
      "Created 500000 training graphs and 100000 test graphs\n",
      "\n",
      "Sample graph information:\n",
      "Graph 0: 53 nodes, 2756 edges, Class: quark\n",
      "Graph 1: 23 nodes, 506 edges, Class: quark\n",
      "Graph 2: 46 nodes, 2070 edges, Class: gluon\n",
      "\n",
      "Training with 450000 graphs, validating with 50000 graphs\n",
      "\n",
      "Model architecture:\n",
      "EdgeNetModel(\n",
      "  (edge_nn1): Sequential(\n",
      "    (0): Linear(in_features=8, out_features=64, bias=True)\n",
      "    (1): BatchNorm1d(64, eps=1e-05, momentum=0.1, affine=True, track_running_stats=True)\n",
      "    (2): ReLU()\n",
      "    (3): Linear(in_features=64, out_features=64, bias=True)\n",
      "    (4): BatchNorm1d(64, eps=1e-05, momentum=0.1, affine=True, track_running_stats=True)\n",
      "    (5): ReLU()\n",
      "  )\n",
      "  (conv1): EdgeConv(nn=Sequential(\n",
      "    (0): Linear(in_features=8, out_features=64, bias=True)\n",
      "    (1): BatchNorm1d(64, eps=1e-05, momentum=0.1, affine=True, track_running_stats=True)\n",
      "    (2): ReLU()\n",
      "    (3): Linear(in_features=64, out_features=64, bias=True)\n",
      "    (4): BatchNorm1d(64, eps=1e-05, momentum=0.1, affine=True, track_running_stats=True)\n",
      "    (5): ReLU()\n",
      "  ))\n",
      "  (edge_nn2): Sequential(\n",
      "    (0): Linear(in_features=128, out_features=64, bias=True)\n",
      "    (1): BatchNorm1d(64, eps=1e-05, momentum=0.1, affine=True, track_running_stats=True)\n",
      "    (2): ReLU()\n",
      "    (3): Linear(in_features=64, out_features=64, bias=True)\n",
      "    (4): BatchNorm1d(64, eps=1e-05, momentum=0.1, affine=True, track_running_stats=True)\n",
      "    (5): ReLU()\n",
      "  )\n",
      "  (conv2): EdgeConv(nn=Sequential(\n",
      "    (0): Linear(in_features=128, out_features=64, bias=True)\n",
      "    (1): BatchNorm1d(64, eps=1e-05, momentum=0.1, affine=True, track_running_stats=True)\n",
      "    (2): ReLU()\n",
      "    (3): Linear(in_features=64, out_features=64, bias=True)\n",
      "    (4): BatchNorm1d(64, eps=1e-05, momentum=0.1, affine=True, track_running_stats=True)\n",
      "    (5): ReLU()\n",
      "  ))\n",
      "  (mlp): Sequential(\n",
      "    (0): Linear(in_features=64, out_features=64, bias=True)\n",
      "    (1): BatchNorm1d(64, eps=1e-05, momentum=0.1, affine=True, track_running_stats=True)\n",
      "    (2): ReLU()\n",
      "    (3): Dropout(p=0.2, inplace=False)\n",
      "    (4): Linear(in_features=64, out_features=2, bias=True)\n",
      "  )\n",
      ")\n"
     ]
    },
    {
     "name": "stderr",
     "output_type": "stream",
     "text": [
      "Epoch 1/20 [Val]: 100%|██████████| 391/391 [01:59<00:00,  3.26it/s]\n"
     ]
    },
    {
     "name": "stdout",
     "output_type": "stream",
     "text": [
      "Epoch 1/20:\n",
      "  Train Loss: 0.4781\n",
      "  Val Loss: 0.4676, Val Acc: 0.7831, Val AUC: 0.8599\n",
      "  New best model with AUC: 0.8599\n"
     ]
    },
    {
     "name": "stderr",
     "output_type": "stream",
     "text": [
      "Epoch 2/20 [Val]: 100%|██████████| 391/391 [01:26<00:00,  4.53it/s]\n"
     ]
    },
    {
     "name": "stdout",
     "output_type": "stream",
     "text": [
      "Epoch 2/20:\n",
      "  Train Loss: 0.4663\n",
      "  Val Loss: 0.4705, Val Acc: 0.7825, Val AUC: 0.8620\n",
      "  New best model with AUC: 0.8620\n"
     ]
    },
    {
     "name": "stderr",
     "output_type": "stream",
     "text": [
      "Epoch 3/20 [Val]: 100%|██████████| 391/391 [01:17<00:00,  5.05it/s]\n"
     ]
    },
    {
     "name": "stdout",
     "output_type": "stream",
     "text": [
      "Epoch 3/20:\n",
      "  Train Loss: 0.4632\n",
      "  Val Loss: 0.4673, Val Acc: 0.7827, Val AUC: 0.8622\n",
      "  New best model with AUC: 0.8622\n"
     ]
    },
    {
     "name": "stderr",
     "output_type": "stream",
     "text": [
      "Epoch 4/20 [Val]: 100%|██████████| 391/391 [01:17<00:00,  5.05it/s]\n"
     ]
    },
    {
     "name": "stdout",
     "output_type": "stream",
     "text": [
      "Epoch 4/20:\n",
      "  Train Loss: 0.4618\n",
      "  Val Loss: 0.4878, Val Acc: 0.7687, Val AUC: 0.8620\n"
     ]
    },
    {
     "name": "stderr",
     "output_type": "stream",
     "text": [
      "Epoch 5/20 [Val]: 100%|██████████| 391/391 [01:17<00:00,  5.05it/s]\n"
     ]
    },
    {
     "name": "stdout",
     "output_type": "stream",
     "text": [
      "Epoch 5/20:\n",
      "  Train Loss: 0.4606\n",
      "  Val Loss: 0.4578, Val Acc: 0.7891, Val AUC: 0.8655\n",
      "  New best model with AUC: 0.8655\n"
     ]
    },
    {
     "name": "stderr",
     "output_type": "stream",
     "text": [
      "Epoch 6/20 [Val]: 100%|██████████| 391/391 [01:17<00:00,  5.06it/s]\n"
     ]
    },
    {
     "name": "stdout",
     "output_type": "stream",
     "text": [
      "Epoch 6/20:\n",
      "  Train Loss: 0.4599\n",
      "  Val Loss: 0.4577, Val Acc: 0.7896, Val AUC: 0.8648\n"
     ]
    },
    {
     "name": "stderr",
     "output_type": "stream",
     "text": [
      "Epoch 7/20 [Val]: 100%|██████████| 391/391 [01:20<00:00,  4.89it/s]\n"
     ]
    },
    {
     "name": "stdout",
     "output_type": "stream",
     "text": [
      "Epoch 7/20:\n",
      "  Train Loss: 0.4595\n",
      "  Val Loss: 0.4571, Val Acc: 0.7898, Val AUC: 0.8651\n"
     ]
    },
    {
     "name": "stderr",
     "output_type": "stream",
     "text": [
      "Epoch 8/20 [Val]: 100%|██████████| 391/391 [01:16<00:00,  5.11it/s]\n"
     ]
    },
    {
     "name": "stdout",
     "output_type": "stream",
     "text": [
      "Epoch 8/20:\n",
      "  Train Loss: 0.4586\n",
      "  Val Loss: 0.4561, Val Acc: 0.7897, Val AUC: 0.8662\n",
      "  New best model with AUC: 0.8662\n"
     ]
    },
    {
     "name": "stderr",
     "output_type": "stream",
     "text": [
      "Epoch 9/20 [Val]: 100%|██████████| 391/391 [01:16<00:00,  5.14it/s]\n"
     ]
    },
    {
     "name": "stdout",
     "output_type": "stream",
     "text": [
      "Epoch 9/20:\n",
      "  Train Loss: 0.4583\n",
      "  Val Loss: 0.4554, Val Acc: 0.7912, Val AUC: 0.8662\n",
      "  New best model with AUC: 0.8662\n"
     ]
    },
    {
     "name": "stderr",
     "output_type": "stream",
     "text": [
      "Epoch 10/20 [Val]: 100%|██████████| 391/391 [01:16<00:00,  5.13it/s]\n"
     ]
    },
    {
     "name": "stdout",
     "output_type": "stream",
     "text": [
      "Epoch 10/20:\n",
      "  Train Loss: 0.4578\n",
      "  Val Loss: 0.4774, Val Acc: 0.7773, Val AUC: 0.8631\n"
     ]
    },
    {
     "name": "stderr",
     "output_type": "stream",
     "text": [
      "Epoch 11/20 [Val]: 100%|██████████| 391/391 [01:15<00:00,  5.16it/s]\n"
     ]
    },
    {
     "name": "stdout",
     "output_type": "stream",
     "text": [
      "Epoch 11/20:\n",
      "  Train Loss: 0.4579\n",
      "  Val Loss: 0.4625, Val Acc: 0.7872, Val AUC: 0.8652\n"
     ]
    },
    {
     "name": "stderr",
     "output_type": "stream",
     "text": [
      "Epoch 12/20 [Val]: 100%|██████████| 391/391 [01:16<00:00,  5.13it/s]\n"
     ]
    },
    {
     "name": "stdout",
     "output_type": "stream",
     "text": [
      "Epoch 12/20:\n",
      "  Train Loss: 0.4573\n",
      "  Val Loss: 0.4600, Val Acc: 0.7890, Val AUC: 0.8655\n"
     ]
    },
    {
     "name": "stderr",
     "output_type": "stream",
     "text": [
      "Epoch 13/20 [Val]: 100%|██████████| 391/391 [01:15<00:00,  5.19it/s]\n"
     ]
    },
    {
     "name": "stdout",
     "output_type": "stream",
     "text": [
      "Epoch 13/20:\n",
      "  Train Loss: 0.4549\n",
      "  Val Loss: 0.4523, Val Acc: 0.7924, Val AUC: 0.8684\n",
      "  New best model with AUC: 0.8684\n"
     ]
    },
    {
     "name": "stderr",
     "output_type": "stream",
     "text": [
      "Epoch 14/20 [Val]: 100%|██████████| 391/391 [01:26<00:00,  4.54it/s]\n"
     ]
    },
    {
     "name": "stdout",
     "output_type": "stream",
     "text": [
      "Epoch 14/20:\n",
      "  Train Loss: 0.4543\n",
      "  Val Loss: 0.4535, Val Acc: 0.7922, Val AUC: 0.8681\n"
     ]
    },
    {
     "name": "stderr",
     "output_type": "stream",
     "text": [
      "Epoch 15/20 [Val]: 100%|██████████| 391/391 [01:28<00:00,  4.42it/s]\n"
     ]
    },
    {
     "name": "stdout",
     "output_type": "stream",
     "text": [
      "Epoch 15/20:\n",
      "  Train Loss: 0.4543\n",
      "  Val Loss: 0.4521, Val Acc: 0.7927, Val AUC: 0.8683\n"
     ]
    },
    {
     "name": "stderr",
     "output_type": "stream",
     "text": [
      "Epoch 16/20 [Val]: 100%|██████████| 391/391 [01:28<00:00,  4.40it/s]\n"
     ]
    },
    {
     "name": "stdout",
     "output_type": "stream",
     "text": [
      "Epoch 16/20:\n",
      "  Train Loss: 0.4536\n",
      "  Val Loss: 0.4523, Val Acc: 0.7924, Val AUC: 0.8689\n",
      "  New best model with AUC: 0.8689\n"
     ]
    },
    {
     "name": "stderr",
     "output_type": "stream",
     "text": [
      "Epoch 17/20 [Val]: 100%|██████████| 391/391 [01:24<00:00,  4.63it/s]\n"
     ]
    },
    {
     "name": "stdout",
     "output_type": "stream",
     "text": [
      "Epoch 17/20:\n",
      "  Train Loss: 0.4537\n",
      "  Val Loss: 0.4520, Val Acc: 0.7931, Val AUC: 0.8684\n"
     ]
    },
    {
     "name": "stderr",
     "output_type": "stream",
     "text": [
      "Epoch 18/20 [Val]: 100%|██████████| 391/391 [01:33<00:00,  4.19it/s]\n"
     ]
    },
    {
     "name": "stdout",
     "output_type": "stream",
     "text": [
      "Epoch 18/20:\n",
      "  Train Loss: 0.4537\n",
      "  Val Loss: 0.4560, Val Acc: 0.7909, Val AUC: 0.8691\n",
      "  New best model with AUC: 0.8691\n"
     ]
    },
    {
     "name": "stderr",
     "output_type": "stream",
     "text": [
      "Epoch 19/20 [Val]: 100%|██████████| 391/391 [01:33<00:00,  4.19it/s]\n"
     ]
    },
    {
     "name": "stdout",
     "output_type": "stream",
     "text": [
      "Epoch 19/20:\n",
      "  Train Loss: 0.4534\n",
      "  Val Loss: 0.4527, Val Acc: 0.7928, Val AUC: 0.8686\n"
     ]
    },
    {
     "name": "stderr",
     "output_type": "stream",
     "text": [
      "Epoch 20/20 [Val]: 100%|██████████| 391/391 [01:27<00:00,  4.45it/s]\n"
     ]
    },
    {
     "name": "stdout",
     "output_type": "stream",
     "text": [
      "Epoch 20/20:\n",
      "  Train Loss: 0.4530\n",
      "  Val Loss: 0.4508, Val Acc: 0.7946, Val AUC: 0.8692\n",
      "  New best model with AUC: 0.8692\n"
     ]
    },
    {
     "name": "stderr",
     "output_type": "stream",
     "text": [
      "Testing: 100%|██████████| 782/782 [02:59<00:00,  4.35it/s]\n"
     ]
    },
    {
     "name": "stdout",
     "output_type": "stream",
     "text": [
      "\n",
      "Test Results:\n",
      "  Accuracy: 0.7967\n",
      "  AUC: 0.8710\n",
      "  Confusion Matrix:\n",
      "    TN: 41501, FP: 8497\n",
      "    FN: 11828, TP: 38174\n"
     ]
    },
    {
     "data": {
      "image/png": "[encoded data removed]",
      "text/plain": [
       "<Figure size 1200x400 with 2 Axes>"
      ]
     },
     "metadata": {},
     "output_type": "display_data"
    },
    {
     "name": "stdout",
     "output_type": "stream",
     "text": [
      "Model saved to 'qg_gnn_model.pt'\n"
     ]
    }
   ],
   "source": [
    "\n",
    "# Convert jet data to graph structures\n",
    "def jets_to_graphs(X, y, threshold=1e-5):\n",
    "    '''\n",
    "    Parameters:\n",
    "    X : numpy.ndarray\n",
    "        Jet data of shape (n_jets, n_particles, n_features)\n",
    "    y : numpy.ndarray\n",
    "        Jet labels (0 for gluon, 1 for quark)\n",
    "    threshold : float\n",
    "        Threshold to filter out zero-padded particles and noise\n",
    "    \n",
    "    Returns:\n",
    "    list of torch_geometric.data.Data\n",
    "        List of graph objects\n",
    "    '''\n",
    "    graph_list = []\n",
    "\n",
    "    for i in range(len(X)):\n",
    "        # Extract non-zero particle data and filtering out very low-energy particles that are probably detector noise\n",
    "        mask = np.sum(np.abs(X[i]), axis=1) > threshold\n",
    "        particles = X[i][mask]\n",
    "\n",
    "        if len(particles) == 0:\n",
    "            continue\n",
    "            \n",
    "        # Use pt, eta, phi as node features\n",
    "        node_features = torch.tensor(particles[:, :4], dtype=torch.float)\n",
    "        \n",
    "        # Edge indices: fully connected graph\n",
    "        n_particles = len(particles)\n",
    "        if n_particles > 1:\n",
    "            edge_index = []\n",
    "            for j in range(n_particles):\n",
    "                for k in range(n_particles):\n",
    "                    if j != k:\n",
    "                        edge_index.append([j, k])  # avoid self-loops\n",
    "            edge_index = torch.tensor(edge_index, dtype=torch.long).t().contiguous()\n",
    "        else:\n",
    "            edge_index = torch.tensor([[0], [0]], dtype=torch.long)\n",
    "            \n",
    "        # Create the graph object\n",
    "        graph = Data(\n",
    "            x=node_features, \n",
    "            edge_index=edge_index, \n",
    "            y=torch.tensor([y[i]], dtype=torch.long)\n",
    "        )\n",
    "        graph_list.append(graph)\n",
    "    return graph_list\n",
    "                        \n",
    "# Define the graph convolutional neural network\n",
    "class EdgeNetModel(torch.nn.Module):\n",
    "    def __init__(self, input_dim=4, hidden_dim=32):\n",
    "        super(EdgeNetModel, self).__init__()\n",
    "        # Network that computes pairwise edge features\n",
    "        self.edge_nn1 = nn.Sequential(\n",
    "            nn.Linear(2*input_dim, hidden_dim),\n",
    "            nn.BatchNorm1d(hidden_dim),\n",
    "            nn.ReLU(),\n",
    "            nn.Linear(hidden_dim, hidden_dim),\n",
    "            nn.BatchNorm1d(hidden_dim),\n",
    "            nn.ReLU()\n",
    "        )\n",
    "        # First edge convolution layer\n",
    "        self.conv1 = EdgeConv(self.edge_nn1, aggr='max')\n",
    "        \n",
    "        # Second edge convolution block\n",
    "        self.edge_nn2 = nn.Sequential(\n",
    "            nn.Linear(2*hidden_dim, hidden_dim),\n",
    "            nn.BatchNorm1d(hidden_dim),\n",
    "            nn.ReLU(),\n",
    "            nn.Linear(hidden_dim, hidden_dim),\n",
    "            nn.BatchNorm1d(hidden_dim),\n",
    "            nn.ReLU()\n",
    "        )\n",
    "        self.conv2 = EdgeConv(self.edge_nn2, aggr='max')\n",
    "        \n",
    "        # Classification MLP\n",
    "        self.mlp = nn.Sequential(\n",
    "            nn.Linear(hidden_dim, hidden_dim),\n",
    "            nn.BatchNorm1d(hidden_dim),\n",
    "            nn.ReLU(),\n",
    "            nn.Dropout(0.2),\n",
    "            nn.Linear(hidden_dim, 2)  # Binary classification: quark or gluon\n",
    "        )\n",
    "        \n",
    "    def forward(self, data):\n",
    "        x, edge_index, batch = data.x, data.edge_index, data.batch\n",
    "        # If batch is None, set it to zeros\n",
    "        if batch is None:\n",
    "            batch = torch.zeros(x.size(0), dtype=torch.long, device=x.device)\n",
    "        \n",
    "        # Apply graph convolutional layers\n",
    "        x = self.conv1(x, edge_index)\n",
    "        x = self.conv2(x, edge_index)\n",
    "\n",
    "        # Global mean pooling\n",
    "        x = global_mean_pool(x, batch)\n",
    "\n",
    "        # Classification\n",
    "        return self.mlp(x)\n",
    "    \n",
    "# Train the model and evaluation utilities\n",
    "def train_model(model, train_loader, val_loader, device, epochs=20, lr=0.001):\n",
    "    model = model.to(device)  # Fixed: Changed model_to to model.to\n",
    "    optimizer = torch.optim.Adam(model.parameters(), lr=lr, weight_decay=1e-4)\n",
    "    criterion = nn.CrossEntropyLoss()\n",
    "\n",
    "    train_losses = []\n",
    "    val_losses = []\n",
    "    val_accs = []\n",
    "    val_aucs = []\n",
    "\n",
    "    best_val_auc = 0\n",
    "    best_model_state = None\n",
    "\n",
    "    scheduler = torch.optim.lr_scheduler.ReduceLROnPlateau(\n",
    "        optimizer, mode='max', factor=0.5, patience=3, verbose=True\n",
    "    )\n",
    "\n",
    "    for epoch in range(epochs):\n",
    "        # Training\n",
    "        model.train()\n",
    "        total_loss = 0\n",
    "        for data in tqdm(train_loader, desc=f'Epoch {epoch+1}/{epochs}', leave=False):\n",
    "            data = data.to(device)\n",
    "            optimizer.zero_grad()\n",
    "            output = model(data)\n",
    "            loss = criterion(output, data.y)\n",
    "            loss.backward()\n",
    "            optimizer.step()\n",
    "            total_loss += loss.item() * data.num_graphs\n",
    "\n",
    "        avg_train_loss = total_loss / len(train_loader.dataset)\n",
    "        train_losses.append(avg_train_loss)\n",
    "\n",
    "        # Validation\n",
    "        model.eval()\n",
    "        val_loss = 0  \n",
    "        predictions = []\n",
    "        true_labels = []\n",
    "        probabilities = []\n",
    "\n",
    "        with torch.no_grad():\n",
    "            for data in tqdm(val_loader, desc=f\"Epoch {epoch+1}/{epochs} [Val]\"):\n",
    "                data = data.to(device)\n",
    "                output = model(data)\n",
    "                loss = criterion(output, data.y)\n",
    "                val_loss += loss.item() * data.num_graphs\n",
    "                \n",
    "                pred = output.argmax(dim=1)\n",
    "                prob = F.softmax(output, dim=1)[:, 1]  # Probability of being class 1 (quark)\n",
    "                \n",
    "                predictions.extend(pred.cpu().numpy())\n",
    "                true_labels.extend(data.y.cpu().numpy())\n",
    "                probabilities.extend(prob.cpu().numpy())\n",
    "        \n",
    "        avg_val_loss = val_loss / len(val_loader.dataset)\n",
    "        val_losses.append(avg_val_loss)\n",
    "        \n",
    "        # Calculate metrics\n",
    "        val_acc = accuracy_score(true_labels, predictions)\n",
    "        val_auc = roc_auc_score(true_labels, probabilities)\n",
    "        val_accs.append(val_acc)\n",
    "        val_aucs.append(val_auc)\n",
    "        \n",
    "        # Print metrics\n",
    "        print(f\"Epoch {epoch+1}/{epochs}:\")\n",
    "        print(f\"  Train Loss: {avg_train_loss:.4f}\")\n",
    "        print(f\"  Val Loss: {avg_val_loss:.4f}, Val Acc: {val_acc:.4f}, Val AUC: {val_auc:.4f}\")\n",
    "        \n",
    "        # Update learning rate\n",
    "        scheduler.step(val_auc)\n",
    "        \n",
    "        # Save best model\n",
    "        if val_auc > best_val_auc:\n",
    "            best_val_auc = val_auc\n",
    "            best_model_state = model.state_dict().copy()\n",
    "            print(f\"  New best model with AUC: {val_auc:.4f}\")\n",
    "    \n",
    "    # Load best model\n",
    "    if best_model_state is not None:\n",
    "        model.load_state_dict(best_model_state)\n",
    "    \n",
    "    return model, {\n",
    "        'train_losses': train_losses,\n",
    "        'val_losses': val_losses,\n",
    "        'val_accs': val_accs,\n",
    "        'val_aucs': val_aucs,\n",
    "        'best_val_auc': best_val_auc\n",
    "    }\n",
    "\n",
    "# Put it all together\n",
    "def main():\n",
    "    # Device configuration\n",
    "    device = torch.device('cuda' if torch.cuda.is_available() else 'cpu')\n",
    "    print(f\"Using device: {device}\")\n",
    "    \n",
    "    \n",
    "    # Create a small subset for quick testing\n",
    "    test_size = 500000  \n",
    "    \n",
    "    # Take a small subset of the data\n",
    "    indices_train = np.random.choice(len(X_train), test_size, replace=False)\n",
    "    indices_test = np.random.choice(len(X_test), test_size//5, replace=False)\n",
    "    \n",
    "    X_train_small = X_train[indices_train]\n",
    "    y_train_small = y_train[indices_train]\n",
    "    X_test_small = X_test[indices_test]\n",
    "    y_test_small = y_test[indices_test]\n",
    "    \n",
    "    print(f\"Using small dataset for testing: {len(X_train_small)} training jets, {len(X_test_small)} test jets\")\n",
    "    \n",
    "    # Convert the data to graphs\n",
    "    print(\"Converting jets to graphs...\")\n",
    "    train_graphs = jets_to_graphs(X_train_small, y_train_small)\n",
    "    test_graphs = jets_to_graphs(X_test_small, y_test_small)\n",
    "    print(f\"Created {len(train_graphs)} training graphs and {len(test_graphs)} test graphs\")\n",
    "    \n",
    "    # Sample a few graphs for inspection\n",
    "    print(\"\\nSample graph information:\")\n",
    "    for i in range(min(3, len(train_graphs))):\n",
    "        g = train_graphs[i]\n",
    "        print(f\"Graph {i}: {g.num_nodes} nodes, {g.num_edges} edges, \"\n",
    "              f\"Class: {'quark' if g.y.item() == 1 else 'gluon'}\")\n",
    "    \n",
    "    # Create DataLoaders\n",
    "    batch_size = 128\n",
    "    \n",
    "    # Split train set for validation\n",
    "    n_val = int(0.1 * len(train_graphs))\n",
    "    val_graphs = train_graphs[:n_val]\n",
    "    train_graphs = train_graphs[n_val:]\n",
    "    \n",
    "    train_loader = DataLoader(train_graphs, batch_size=batch_size, shuffle=True)\n",
    "    val_loader = DataLoader(val_graphs, batch_size=batch_size)\n",
    "    test_loader = DataLoader(test_graphs, batch_size=batch_size)\n",
    "    \n",
    "    print(f\"\\nTraining with {len(train_graphs)} graphs, validating with {len(val_graphs)} graphs\")\n",
    "    \n",
    "    # Initialize and train the model\n",
    "    model = EdgeNetModel(input_dim=4, hidden_dim=64)\n",
    "    print(f\"\\nModel architecture:\\n{model}\")\n",
    "    \n",
    "    # Train the model\n",
    "    model, history = train_model(\n",
    "        model, train_loader, val_loader, device, \n",
    "        epochs=20, lr=0.001\n",
    "    )\n",
    "    \n",
    "    # Evaluate on test set\n",
    "    model.eval()\n",
    "    predictions = []\n",
    "    true_labels = []\n",
    "    probabilities = []\n",
    "    \n",
    "    with torch.no_grad():\n",
    "        for data in tqdm(test_loader, desc=\"Testing\"):\n",
    "            data = data.to(device)\n",
    "            output = model(data)\n",
    "            pred = output.argmax(dim=1)\n",
    "            prob = F.softmax(output, dim=1)[:, 1]\n",
    "            \n",
    "            predictions.extend(pred.cpu().numpy())\n",
    "            true_labels.extend(data.y.cpu().numpy())\n",
    "            probabilities.extend(prob.cpu().numpy())\n",
    "    \n",
    "    # Calculate test metrics\n",
    "    test_acc = accuracy_score(true_labels, predictions)\n",
    "    test_auc = roc_auc_score(true_labels, probabilities)\n",
    "    \n",
    "    print(\"\\nTest Results:\")\n",
    "    print(f\"  Accuracy: {test_acc:.4f}\")\n",
    "    print(f\"  AUC: {test_auc:.4f}\")\n",
    "    \n",
    "    cm = confusion_matrix(true_labels, predictions)\n",
    "    print(f\"  Confusion Matrix:\")\n",
    "    print(f\"    TN: {cm[0, 0]}, FP: {cm[0, 1]}\")\n",
    "    print(f\"    FN: {cm[1, 0]}, TP: {cm[1, 1]}\")\n",
    "    \n",
    "    # Plot training history\n",
    "    plt.figure(figsize=(12, 4))\n",
    "    \n",
    "    plt.subplot(1, 2, 1)\n",
    "    plt.plot(history['train_losses'], label='Train Loss')\n",
    "    plt.plot(history['val_losses'], label='Val Loss')\n",
    "    plt.title('Training and Validation Loss')\n",
    "    plt.xlabel('Epoch')\n",
    "    plt.ylabel('Loss')\n",
    "    plt.legend()\n",
    "    \n",
    "    plt.subplot(1, 2, 2)\n",
    "    plt.plot(history['val_accs'], label='Accuracy')\n",
    "    plt.plot(history['val_aucs'], label='AUC')\n",
    "    plt.title('Validation Metrics')\n",
    "    plt.xlabel('Epoch')\n",
    "    plt.ylabel('Score')\n",
    "    plt.legend()\n",
    "    \n",
    "    plt.tight_layout()\n",
    "    plt.savefig('gnn_training_history.png')\n",
    "    plt.show()\n",
    "    \n",
    "    # Save the model\n",
    "    torch.save(model.state_dict(), 'qg_gnn_model.pt')\n",
    "    print(\"Model saved to 'qg_gnn_model.pt'\")\n",
    "    \n",
    "    return model, history, (test_acc, test_auc)\n",
    "\n",
    "# Execute the main function\n",
    "if __name__ == '__main__':\n",
    "    model, history, (test_acc, test_auc) = main()"
   ]
  },
  {
   "cell_type": "markdown",
   "metadata": {},
   "source": [
    "Performance Metrics:\n",
    "Test Accuracy: 79.67% \n",
    "Test AUC: 0.8710 \n",
    "Validation AUC: 0.8692 - close match between validation and test AUC (0.8692 vs 0.8710) shows good generalization\n",
    "Training Dynamics\n",
    "Smooth convergence - Training loss steadily decreased from 0.4781 to 0.4530\n",
    "Consistent improvement - Best model updates occurred throughout training (epochs 1, 2, 3, 5, 8, 9, 13, 16, 18, 20)\n",
    "No overfitting - The gap between training and validation loss remained small, indicating good regularization\n",
    "Steady gains - Performance was still slightly improving at epoch 20, suggesting more epochs might yield additional small gains\n",
    "\n",
    "Confusion Matrix Analysis:\n",
    "TN: 41,501  FP: 8,497\n",
    "FN: 11,828  TP: 38,174\n",
    "Gluon identification (TN): 41,501/(41,501+8,497) = 83.0% correct\n",
    "Quark identification (TP): 38,174/(38,174+11,828) = 76.3% correct"
   ]
  }
 ],
 "metadata": {
  "kernelspec": {
   "display_name": "Python 3",
   "language": "python",
   "name": "python3"
  },
  "language_info": {
   "codemirror_mode": {
    "name": "ipython",
    "version": 3
   },
   "file_extension": ".py",
   "mimetype": "text/x-python",
   "name": "python",
   "nbconvert_exporter": "python",
   "pygments_lexer": "ipython3",
   "version": "3.9.6"
  }
 },
 "nbformat": 4,
 "nbformat_minor": 2
}
